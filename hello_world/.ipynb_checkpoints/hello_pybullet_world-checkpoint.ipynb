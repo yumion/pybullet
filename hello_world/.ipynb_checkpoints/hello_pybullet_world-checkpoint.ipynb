{
 "cells": [
  {
   "cell_type": "code",
   "execution_count": 1,
   "metadata": {
    "collapsed": true
   },
   "outputs": [],
   "source": [
    "import pybullet as p\n",
    "import time\n",
    "import pybullet_data"
   ]
  },
  {
   "cell_type": "code",
   "execution_count": 2,
   "metadata": {},
   "outputs": [
    {
     "data": {
      "text/plain": [
       "0"
      ]
     },
     "execution_count": 2,
     "metadata": {},
     "output_type": "execute_result"
    }
   ],
   "source": [
    "#ウインドウ表示\n",
    "p.connect(p.GUI) #or p.DIRECT for non-graphical version"
   ]
  },
  {
   "cell_type": "code",
   "execution_count": 3,
   "metadata": {},
   "outputs": [],
   "source": [
    "#urdfファイルを読み込む時のパスを指定してあげる\n",
    "p.setAdditionalSearchPath(pybullet_data.getDataPath()) #optionally"
   ]
  },
  {
   "cell_type": "code",
   "execution_count": 4,
   "metadata": {
    "collapsed": true
   },
   "outputs": [],
   "source": [
    "# 重力\n",
    "p.setGravity(0,0,-10)"
   ]
  },
  {
   "cell_type": "code",
   "execution_count": 5,
   "metadata": {},
   "outputs": [],
   "source": [
    "#フィールドを追加\n",
    "planeId = p.loadURDF(\"plane.urdf\")"
   ]
  },
  {
   "cell_type": "code",
   "execution_count": 6,
   "metadata": {
    "collapsed": true
   },
   "outputs": [],
   "source": [
    "#オブジェクトの初期位置を設定\n",
    "cubeStartPos = [0,0,1]\n",
    "cubeStartOrientation = p.getQuaternionFromEuler([0,0,0])"
   ]
  },
  {
   "cell_type": "code",
   "execution_count": 7,
   "metadata": {},
   "outputs": [],
   "source": [
    "#オブジェクトを読み込み表示\n",
    "boxId = p.loadURDF(\"r2d2.urdf\",cubeStartPos, cubeStartOrientation)"
   ]
  },
  {
   "cell_type": "code",
   "execution_count": 7,
   "metadata": {
    "collapsed": true
   },
   "outputs": [],
   "source": [
    "p.setAdditionalSearchPath(\"/home/dl-box/ros_ws/src/test_car_description/urdf/\")\n",
    "car = p.loadURDF(\"test_car.urdf\",[1,0,0], cubeStartOrientation)"
   ]
  },
  {
   "cell_type": "code",
   "execution_count": 1,
   "metadata": {},
   "outputs": [
    {
     "ename": "NameError",
     "evalue": "name 'p' is not defined",
     "output_type": "error",
     "traceback": [
      "\u001b[0;31m---------------------------------------------------------------------------\u001b[0m",
      "\u001b[0;31mNameError\u001b[0m                                 Traceback (most recent call last)",
      "\u001b[0;32m<ipython-input-1-9bacd0a6fae7>\u001b[0m in \u001b[0;36m<module>\u001b[0;34m()\u001b[0m\n\u001b[1;32m      1\u001b[0m \u001b[0;31m#立方体を出現させる\u001b[0m\u001b[0;34m\u001b[0m\u001b[0;34m\u001b[0m\u001b[0m\n\u001b[0;32m----> 2\u001b[0;31m \u001b[0mcuid\u001b[0m \u001b[0;34m=\u001b[0m \u001b[0mp\u001b[0m\u001b[0;34m.\u001b[0m\u001b[0mcreateCollisionShape\u001b[0m\u001b[0;34m(\u001b[0m\u001b[0mp\u001b[0m\u001b[0;34m.\u001b[0m\u001b[0mGEOM_BOX\u001b[0m\u001b[0;34m,\u001b[0m \u001b[0mhalfExtents\u001b[0m \u001b[0;34m=\u001b[0m \u001b[0;34m[\u001b[0m\u001b[0;36m1\u001b[0m\u001b[0;34m,\u001b[0m \u001b[0;36m1\u001b[0m\u001b[0;34m,\u001b[0m \u001b[0;36m1\u001b[0m\u001b[0;34m]\u001b[0m\u001b[0;34m)\u001b[0m\u001b[0;34m\u001b[0m\u001b[0m\n\u001b[0m\u001b[1;32m      3\u001b[0m \u001b[0mmass\u001b[0m\u001b[0;34m=\u001b[0m \u001b[0;36m0\u001b[0m \u001b[0;31m#static box\u001b[0m\u001b[0;34m\u001b[0m\u001b[0m\n\u001b[1;32m      4\u001b[0m \u001b[0mp\u001b[0m\u001b[0;34m.\u001b[0m\u001b[0mcreateMultiBody\u001b[0m\u001b[0;34m(\u001b[0m\u001b[0mmass\u001b[0m\u001b[0;34m,\u001b[0m\u001b[0mcuid\u001b[0m\u001b[0;34m)\u001b[0m\u001b[0;34m\u001b[0m\u001b[0m\n",
      "\u001b[0;31mNameError\u001b[0m: name 'p' is not defined"
     ]
    }
   ],
   "source": [
    "#立方体を出現させる\n",
    "cuid = p.createCollisionShape(p.GEOM_BOX, halfExtents = [1, 1, 1])\n",
    "mass= 0 #static box\n",
    "p.createMultiBody(mass,cuid)"
   ]
  },
  {
   "cell_type": "code",
   "execution_count": 8,
   "metadata": {},
   "outputs": [
    {
     "data": {
      "text/plain": [
       "5"
      ]
     },
     "execution_count": 8,
     "metadata": {},
     "output_type": "execute_result"
    }
   ],
   "source": [
    "#the number of joints using the getNumJoints API\n",
    "#ジョイント数を検索\n",
    "p.getNumJoints(boxId)"
   ]
  },
  {
   "cell_type": "code",
   "execution_count": 10,
   "metadata": {},
   "outputs": [
    {
     "data": {
      "text/plain": [
       "(2,\n",
       " b'front_right_wheel_joint',\n",
       " 0,\n",
       " 8,\n",
       " 7,\n",
       " 1,\n",
       " 0.0,\n",
       " 0.0,\n",
       " 0.0,\n",
       " -1.0,\n",
       " 0.0,\n",
       " 0.0,\n",
       " b'front_right_wheel_link',\n",
       " (0.0, 0.0, -1.0),\n",
       " (0.15000000596046448, -0.10000000149011612, 0.05000000074505806),\n",
       " (-0.7070727411679727, 0.0, 0.0, 0.7071408195665196),\n",
       " 0)"
      ]
     },
     "execution_count": 10,
     "metadata": {},
     "output_type": "execute_result"
    }
   ],
   "source": [
    "#jointの情報\n",
    "\"\"\"\n",
    "jointIndex ; int\n",
    "jointName ; string\n",
    "jointType ; int\n",
    "qIndex ; int\n",
    "uIndex ; int \n",
    "flags ; int\n",
    "jointDamping ; float\n",
    "jointFriction ; float\n",
    "jointLowerLimit ; float\n",
    "jointUpperLimit ; float\n",
    "jointMaxForce ; float\n",
    "jointMaxVelocity ; float\n",
    "linkName ; string\n",
    "jointAxis ; vec3\n",
    "parentFramePos ; vec3\n",
    "parentFrameOrn ; vec3\n",
    "parentIndex ; int\n",
    "\"\"\"\n",
    "p.getJointInfo(boxId,2)"
   ]
  },
  {
   "cell_type": "code",
   "execution_count": 8,
   "metadata": {},
   "outputs": [],
   "source": [
    "#モーターを動かす\n",
    "maxForce = 10\n",
    "mode = p.VELOCITY_CONTROL\n",
    "p.setJointMotorControlArray(boxId, jointIndices=[1,2,3,4], controlMode=mode, targetVelocities=[10,10,10,10], force=maxForce)"
   ]
  },
  {
   "cell_type": "code",
   "execution_count": null,
   "metadata": {},
   "outputs": [],
   "source": [
    "#シミュレーション開始\n",
    "for i in range (10000):\n",
    "    p.stepSimulation()\n",
    "    time.sleep(1./240.)#世界の時間スピード"
   ]
  },
  {
   "cell_type": "code",
   "execution_count": 9,
   "metadata": {},
   "outputs": [
    {
     "name": "stdout",
     "output_type": "stream",
     "text": [
      "(-9.43500941101415e-06, 0.003532865052158235, 0.47082233035789567) (-1.0519752995545728e-05, 1.9444743777249017e-06, -5.992813757445351e-05, 0.9999999981470861)\n"
     ]
    }
   ],
   "source": [
    "#最終的なオブジェクトの位置と向き\n",
    "cubePos, cubeOrn = p.getBasePositionAndOrientation(boxId)\n",
    "print(cubePos,cubeOrn)"
   ]
  },
  {
   "cell_type": "code",
   "execution_count": 10,
   "metadata": {
    "collapsed": true
   },
   "outputs": [],
   "source": [
    "#フィールド、モデルすべてをリセット\n",
    "p.resetSimulation()"
   ]
  },
  {
   "cell_type": "code",
   "execution_count": 33,
   "metadata": {
    "collapsed": true
   },
   "outputs": [],
   "source": [
    "#終了\n",
    "p.disconnect()"
   ]
  },
  {
   "cell_type": "code",
   "execution_count": null,
   "metadata": {
    "collapsed": true
   },
   "outputs": [],
   "source": [
    "#オブジェクトを複数表示\n",
    "import pybullet as p\n",
    "import time\n",
    "\n",
    "p.connect(p.GUI)\n",
    "p.createCollisionShape(p.GEOM_PLANE)\n",
    "p.createMultiBody(0,0)\n",
    "\n",
    "sphereRadius = 0.05\n",
    "colSphereId = p.createCollisionShape(p.GEOM_SPHERE,radius=sphereRadius)\n",
    "colBoxId = p.createCollisionShape(p.GEOM_BOX,halfExtents=[sphereRadius,sphereRadius,sphereRadius])\n",
    "\n",
    "mass = 1\n",
    "visualShapeId = -1\n",
    "\n",
    "\t\n",
    "\t\n",
    "link_Masses=[1]\n",
    "linkCollisionShapeIndices=[colBoxId]\n",
    "linkVisualShapeIndices=[-1]\n",
    "linkPositions=[[0,0,0.11]]\n",
    "linkOrientations=[[0,0,0,1]]\n",
    "linkInertialFramePositions=[[0,0,0]]\n",
    "linkInertialFrameOrientations=[[0,0,0,1]]\n",
    "indices=[0]\n",
    "jointTypes=[p.JOINT_REVOLUTE]\n",
    "axis=[[0,0,1]]\n",
    "\n",
    "for i in range (3):\n",
    "\tfor j in range (3):\n",
    "\t\tfor k in range (3):\n",
    "\t\t\tbasePosition = [1+i*5*sphereRadius,1+j*5*sphereRadius,1+k*5*sphereRadius+1]\n",
    "\t\t\tbaseOrientation = [0,0,0,1]\n",
    "\t\t\tif (k&2):\n",
    "\t\t\t\tsphereUid = p.createMultiBody(mass,colSphereId,visualShapeId,basePosition,baseOrientation)\n",
    "\t\t\telse:\n",
    "\t\t\t\tsphereUid = p.createMultiBody(mass,colBoxId,visualShapeId,basePosition,baseOrientation,linkMasses=link_Masses,linkCollisionShapeIndices=linkCollisionShapeIndices,linkVisualShapeIndices=linkVisualShapeIndices,linkPositions=linkPositions,linkOrientations=linkOrientations,linkInertialFramePositions=linkInertialFramePositions, linkInertialFrameOrientations=linkInertialFrameOrientations,linkParentIndices=indices,linkJointTypes=jointTypes,linkJointAxis=axis)\t\t\t\n",
    "\t\t\t\n",
    "\t\t\tp.changeDynamics(sphereUid,-1,spinningFriction=0.001, rollingFriction=0.001,linearDamping=0.0)\n",
    "\t\t\tfor joint in range (p.getNumJoints(sphereUid)):\n",
    "\t\t\t\tp.setJointMotorControl2(sphereUid,joint,p.VELOCITY_CONTROL,targetVelocity=1,force=10)\n",
    "\n",
    "\n",
    "p.setGravity(0,0,-10)\n",
    "p.setRealTimeSimulation(1)\n",
    "\n",
    "p.getNumJoints(sphereUid)\n",
    "for i in range (p.getNumJoints(sphereUid)):\n",
    "\tp.getJointInfo(sphereUid,i)\n",
    "\t\n",
    "while (1):\n",
    "\tkeys = p.getKeyboardEvents()\n",
    "\tprint(keys)\n",
    "\n",
    "\ttime.sleep(0.01)"
   ]
  }
 ],
 "metadata": {
  "kernelspec": {
   "display_name": "Python 3",
   "language": "python",
   "name": "python3"
  },
  "language_info": {
   "codemirror_mode": {
    "name": "ipython",
    "version": 3
   },
   "file_extension": ".py",
   "mimetype": "text/x-python",
   "name": "python",
   "nbconvert_exporter": "python",
   "pygments_lexer": "ipython3",
   "version": "3.6.6"
  }
 },
 "nbformat": 4,
 "nbformat_minor": 2
}
