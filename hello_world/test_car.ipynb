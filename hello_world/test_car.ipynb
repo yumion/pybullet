{
 "cells": [
  {
   "cell_type": "code",
   "execution_count": 1,
   "metadata": {},
   "outputs": [
    {
     "name": "stdout",
     "output_type": "stream",
     "text": [
      "current_dir=/home/dl-box/.pyenv/versions/anaconda3-5.3.0/lib/python3.6/site-packages/pybullet_envs/bullet\n"
     ]
    }
   ],
   "source": [
    "import pybullet as p\n",
    "import time\n",
    "import pybullet_data\n",
    "import numpy as np\n",
    "import cv2\n",
    "from pybullet_envs.bullet import racecar"
   ]
  },
  {
   "cell_type": "code",
   "execution_count": 2,
   "metadata": {},
   "outputs": [],
   "source": [
    "physicsClient = p.connect(p.GUI)\n",
    "p.setAdditionalSearchPath(pybullet_data.getDataPath())\n",
    "p.setGravity(0,0,-10)\n",
    "planeId = p.loadURDF(\"plane.urdf\")"
   ]
  },
  {
   "cell_type": "code",
   "execution_count": 3,
   "metadata": {},
   "outputs": [],
   "source": [
    "p.setAdditionalSearchPath(pybullet_data.getDataPath())\n",
    "r2d2 = p.loadURDF(\"r2d2.urdf\", [2,0,0.5])"
   ]
  },
  {
   "cell_type": "code",
   "execution_count": 3,
   "metadata": {},
   "outputs": [],
   "source": [
    "startPos = [0,0,0]\n",
    "startOrientation = p.getQuaternionFromEuler([0,0,0])\n",
    "car = racecar.Racecar(p, pybullet_data.getDataPath())"
   ]
  },
  {
   "cell_type": "code",
   "execution_count": 5,
   "metadata": {},
   "outputs": [
    {
     "data": {
      "text/plain": [
       "3"
      ]
     },
     "execution_count": 5,
     "metadata": {},
     "output_type": "execute_result"
    }
   ],
   "source": [
    "# 2台目\n",
    "cuid = p.loadURDF(\"test_car.urdf\",[0,1,1], startOrientation)\n",
    "p.createMultiBody(cuid)"
   ]
  },
  {
   "cell_type": "code",
   "execution_count": 4,
   "metadata": {},
   "outputs": [
    {
     "data": {
      "text/plain": [
       "2"
      ]
     },
     "execution_count": 4,
     "metadata": {},
     "output_type": "execute_result"
    }
   ],
   "source": [
    "#円柱を出現させる\n",
    "target = p.createCollisionShape(\n",
    "    p.GEOM_CYLINDER, radius=0.5, height=2, collisionFramePosition=[2,0,0])\n",
    "vis = p.createVisualShape(\n",
    "    p.GEOM_CYLINDER, radius=0.5, length=2, visualFramePosition=[2,0,0], rgbaColor=[0,255,0,1])\n",
    "p.createMultiBody(0, target, vis)"
   ]
  },
  {
   "cell_type": "code",
   "execution_count": null,
   "metadata": {},
   "outputs": [],
   "source": [
    "base_pos, orn = p.getBasePositionAndOrientation(car)"
   ]
  },
  {
   "cell_type": "code",
   "execution_count": null,
   "metadata": {},
   "outputs": [],
   "source": [
    "base_pos"
   ]
  },
  {
   "cell_type": "code",
   "execution_count": null,
   "metadata": {},
   "outputs": [],
   "source": [
    "#オブジェクト視点カメラ\n",
    "cam_eye = np.array(base_pos) + [0.1,0,0.2]\n",
    "cam_target = [2,0,0.2]\n",
    "cam_upvec = [1,0,1] #upベクトル(カメラの向きを決める)[1,0,1]で正面？\n",
    "view_matrix = p.computeViewMatrix(\n",
    "        cameraEyePosition=cam_eye,\n",
    "        cameraTargetPosition=cam_target,\n",
    "        cameraUpVector=cam_upvec)"
   ]
  },
  {
   "cell_type": "code",
   "execution_count": null,
   "metadata": {},
   "outputs": [],
   "source": [
    "cam_eye"
   ]
  },
  {
   "cell_type": "code",
   "execution_count": null,
   "metadata": {
    "collapsed": true
   },
   "outputs": [],
   "source": [
    "#固定点カメラ\n",
    "cam_dist = 4 # min 1\n",
    "cam_yaw = 0\n",
    "cam_pitch = -10\n",
    "view_matrix = p.computeViewMatrixFromYawPitchRoll(\n",
    "        cameraTargetPosition=base_pos,\n",
    "        distance=cam_dist,\n",
    "        yaw=cam_yaw,\n",
    "        pitch=cam_pitch,\n",
    "        roll=0,\n",
    "        upAxisIndex=2)"
   ]
  },
  {
   "cell_type": "code",
   "execution_count": null,
   "metadata": {
    "collapsed": true
   },
   "outputs": [],
   "source": [
    "RENDER_WIDTH = 320\n",
    "RENDER_HEIGHT = 320\n",
    "proj_matrix = p.computeProjectionMatrixFOV(\n",
    "        fov=60, aspect=float(RENDER_WIDTH)/RENDER_HEIGHT,\n",
    "        nearVal=0.1, farVal=100.0)"
   ]
  },
  {
   "cell_type": "code",
   "execution_count": null,
   "metadata": {},
   "outputs": [],
   "source": [
    "#カメラ画像を取得(width, height, rgb, depth, segment_mask)\n",
    "(_, _, rgb, _, mask) = p.getCameraImage(\n",
    "        width=RENDER_WIDTH, height=RENDER_HEIGHT, viewMatrix=view_matrix,\n",
    "        projectionMatrix=proj_matrix, renderer=p.ER_BULLET_HARDWARE_OPENGL)\n",
    "#renderer=p.ER_BULLET_HARDWARE_OPENGL or ER_TINY_RENDERER はp.connect(p.DIRECT)のとき"
   ]
  },
  {
   "cell_type": "code",
   "execution_count": null,
   "metadata": {},
   "outputs": [],
   "source": [
    "#np.array形式に変換\n",
    "rgb_array = np.array(rgb)\n",
    "rgb_array = rgb_array[:, :, :3]"
   ]
  },
  {
   "cell_type": "code",
   "execution_count": 5,
   "metadata": {},
   "outputs": [],
   "source": [
    "def render(uniqueId, width=320, height=320):\n",
    "    base_pos, orn = p.getBasePositionAndOrientation(uniqueId)\n",
    "    yaw = p.getEulerFromQuaternion(orn)[2]\n",
    "    rot_matrix = np.array([[np.cos(yaw), -np.sin(yaw)], [np.sin(yaw), np.cos(yaw)]])\n",
    "    target_relative_vec2D = np.array([2,0])\n",
    "    target_abs_vec2D = np.dot(rot_matrix, target_relative_vec2D)\n",
    "\n",
    "    cam_eye = np.array(base_pos) + np.array([0,0,0.2])\n",
    "    cam_target = np.array(base_pos) + np.append(target_abs_vec2D, 0.2)\n",
    "    cam_upvec = [0,0,1]\n",
    "\n",
    "    view_matrix = p.computeViewMatrix(\n",
    "            cameraEyePosition=cam_eye,\n",
    "            cameraTargetPosition=cam_target,\n",
    "            cameraUpVector=cam_upvec)\n",
    "    proj_matrix = p.computeProjectionMatrixFOV(\n",
    "        fov=60, aspect=float(width)/height,\n",
    "        nearVal=0.1, farVal=100.0)\n",
    "\n",
    "    (_, _, rgb, _, mask) = p.getCameraImage(\n",
    "        width=width, height=height, viewMatrix=view_matrix,\n",
    "        projectionMatrix=proj_matrix, renderer=p.ER_BULLET_HARDWARE_OPENGL)\n",
    "    rgb_array = np.array(rgb)\n",
    "    rgb_array = rgb_array[:,:,:3]\n",
    "    mask_array = np.array(mask)\n",
    "    return rgb_array, mask_array"
   ]
  },
  {
   "cell_type": "code",
   "execution_count": 6,
   "metadata": {},
   "outputs": [],
   "source": [
    "def green_detect(img):\n",
    "    '''緑色のマスク'''\n",
    "    # HSV色空間に変換\n",
    "    hsv = cv2.cvtColor(img, cv2.COLOR_BGR2HSV)\n",
    "    # 緑色のHSVの値域\n",
    "    hsv_min = np.array([50, 100, 100])\n",
    "    hsv_max = np.array([70, 255, 255])\n",
    "    mask = cv2.inRange(hsv, hsv_min, hsv_max)\n",
    "    return mask"
   ]
  },
  {
   "cell_type": "code",
   "execution_count": 8,
   "metadata": {},
   "outputs": [],
   "source": [
    "def calc_center(img):\n",
    "    '''重心座標(x,y)を求める'''\n",
    "    img = green_detect(img)\n",
    "    mu = cv2.moments(img, False)\n",
    "    x, y = int(mu[\"m10\"] / (mu[\"m00\"] + 1e-7)), int(mu[\"m01\"] / (mu[\"m00\"] + 1e-7))\n",
    "    # 重心を丸でくくる\n",
    "    cv2.circle(img, (x, y), 4, 100, 2, 4)\n",
    "    print('x',x,'y',y)\n",
    "    return img, x, y"
   ]
  },
  {
   "cell_type": "code",
   "execution_count": 18,
   "metadata": {},
   "outputs": [
    {
     "name": "stdout",
     "output_type": "stream",
     "text": [
      "x 163 y 128\n"
     ]
    },
    {
     "data": {
      "text/plain": [
       "<matplotlib.image.AxesImage at 0x2b46035c2c18>"
      ]
     },
     "execution_count": 18,
     "metadata": {},
     "output_type": "execute_result"
    },
    {
     "data": {
      "image/png": "[encoded data removed]",
      "text/plain": [
       "<Figure size 432x288 with 1 Axes>"
      ]
     },
     "metadata": {
      "needs_background": "light"
     },
     "output_type": "display_data"
    }
   ],
   "source": [
    "#レンダリングされたカメラ画像を確認\n",
    "import matplotlib.pyplot as plt\n",
    "%matplotlib inline\n",
    "img, mask = render(car.racecarUniqueId)\n",
    "img, _, _ = calc_center(img)\n",
    "# plt.imshow(mask, cmap=\"gray\")\n",
    "plt.imshow(img)"
   ]
  },
  {
   "cell_type": "code",
   "execution_count": 14,
   "metadata": {},
   "outputs": [
    {
     "ename": "TypeError",
     "evalue": "an integer is required (got type Racecar)",
     "output_type": "error",
     "traceback": [
      "\u001b[0;31m---------------------------------------------------------------------------\u001b[0m",
      "\u001b[0;31mTypeError\u001b[0m                                 Traceback (most recent call last)",
      "\u001b[0;32m<ipython-input-14-36bb60b786e8>\u001b[0m in \u001b[0;36m<module>\u001b[0;34m\u001b[0m\n\u001b[1;32m      3\u001b[0m \u001b[0mvelocity\u001b[0m \u001b[0;34m=\u001b[0m \u001b[0;36m10\u001b[0m\u001b[0;34m\u001b[0m\u001b[0;34m\u001b[0m\u001b[0m\n\u001b[1;32m      4\u001b[0m \u001b[0mmode\u001b[0m \u001b[0;34m=\u001b[0m \u001b[0mp\u001b[0m\u001b[0;34m.\u001b[0m\u001b[0mVELOCITY_CONTROL\u001b[0m\u001b[0;34m\u001b[0m\u001b[0;34m\u001b[0m\u001b[0m\n\u001b[0;32m----> 5\u001b[0;31m \u001b[0;32mfor\u001b[0m \u001b[0mwheel\u001b[0m \u001b[0;32min\u001b[0m \u001b[0mrange\u001b[0m\u001b[0;34m(\u001b[0m\u001b[0mp\u001b[0m\u001b[0;34m.\u001b[0m\u001b[0mgetNumJoints\u001b[0m\u001b[0;34m(\u001b[0m\u001b[0mcar\u001b[0m\u001b[0;34m)\u001b[0m\u001b[0;34m)\u001b[0m\u001b[0;34m:\u001b[0m\u001b[0;34m\u001b[0m\u001b[0;34m\u001b[0m\u001b[0m\n\u001b[0m\u001b[1;32m      6\u001b[0m     \u001b[0mp\u001b[0m\u001b[0;34m.\u001b[0m\u001b[0msetJointMotorControl2\u001b[0m\u001b[0;34m(\u001b[0m\u001b[0mcar\u001b[0m\u001b[0;34m,\u001b[0m \u001b[0mwheel\u001b[0m\u001b[0;34m,\u001b[0m \u001b[0mmode\u001b[0m\u001b[0;34m,\u001b[0m \u001b[0mtargetVelocity\u001b[0m\u001b[0;34m=\u001b[0m\u001b[0mvelocity\u001b[0m\u001b[0;34m,\u001b[0m \u001b[0mforce\u001b[0m\u001b[0;34m=\u001b[0m\u001b[0mmaxForce\u001b[0m\u001b[0;34m)\u001b[0m\u001b[0;34m\u001b[0m\u001b[0;34m\u001b[0m\u001b[0m\n",
      "\u001b[0;31mTypeError\u001b[0m: an integer is required (got type Racecar)"
     ]
    }
   ],
   "source": [
    "#モーターを動かす\n",
    "maxForce = 10\n",
    "velocity = 10\n",
    "mode = p.VELOCITY_CONTROL\n",
    "for wheel in range(p.getNumJoints(car)):\n",
    "    p.setJointMotorControl2(car, wheel, mode, targetVelocity=velocity, force=maxForce)"
   ]
  },
  {
   "cell_type": "code",
   "execution_count": 17,
   "metadata": {},
   "outputs": [],
   "source": [
    "#シミュレーション開始\n",
    "for i in range (1000):\n",
    "    p.stepSimulation()\n",
    "#     img, mask = render(car) #renderするととても遅くなる\n",
    "    time.sleep(1./240.)#世界の時間スピード?"
   ]
  },
  {
   "cell_type": "code",
   "execution_count": 16,
   "metadata": {},
   "outputs": [
    {
     "data": {
      "text/plain": [
       "-9.99217123331779e-06"
      ]
     },
     "execution_count": 16,
     "metadata": {},
     "output_type": "execute_result"
    }
   ],
   "source": [
    "p.getClosestPoints(bodyA=car, bodyB=target, distance=100, linkIndexA=0)[0][8]"
   ]
  },
  {
   "cell_type": "code",
   "execution_count": 6,
   "metadata": {},
   "outputs": [
    {
     "data": {
      "text/plain": [
       "(2,\n",
       " b'front_right_wheel_joint',\n",
       " 0,\n",
       " 8,\n",
       " 7,\n",
       " 1,\n",
       " 0.0,\n",
       " 0.0,\n",
       " 0.0,\n",
       " -1.0,\n",
       " 0.0,\n",
       " 0.0,\n",
       " b'front_right_wheel_link',\n",
       " (0.0, 0.0, -1.0),\n",
       " (0.15000000596046448, -0.10000000149011612, 0.05000000074505806),\n",
       " (-0.7070727411679727, 0.0, 0.0, 0.7071408195665196),\n",
       " 0)"
      ]
     },
     "execution_count": 6,
     "metadata": {},
     "output_type": "execute_result"
    }
   ],
   "source": [
    "p.getJointInfo(car,2)"
   ]
  },
  {
   "cell_type": "code",
   "execution_count": 33,
   "metadata": {},
   "outputs": [],
   "source": [
    "p.setJointMotorControlArray(\n",
    "    car, np.arange(p.getNumJoints(car))[1:], p.VELOCITY_CONTROL, \n",
    "    targetVelocities=[12,20,12,20],\n",
    "    forces=np.ones(4)*20)"
   ]
  },
  {
   "cell_type": "code",
   "execution_count": 12,
   "metadata": {},
   "outputs": [
    {
     "data": {
      "text/plain": [
       "array([1, 2, 3, 4])"
      ]
     },
     "execution_count": 12,
     "metadata": {},
     "output_type": "execute_result"
    }
   ],
   "source": [
    "np.arange(p.getNumJoints(car))[1:]"
   ]
  },
  {
   "cell_type": "code",
   "execution_count": null,
   "metadata": {
    "collapsed": true
   },
   "outputs": [],
   "source": []
  }
 ],
 "metadata": {
  "kernelspec": {
   "display_name": "Python 3",
   "language": "python",
   "name": "python3"
  },
  "language_info": {
   "codemirror_mode": {
    "name": "ipython",
    "version": 3
   },
   "file_extension": ".py",
   "mimetype": "text/x-python",
   "name": "python",
   "nbconvert_exporter": "python",
   "pygments_lexer": "ipython3",
   "version": "3.6.8"
  }
 },
 "nbformat": 4,
 "nbformat_minor": 2
}
