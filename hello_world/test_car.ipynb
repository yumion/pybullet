{
 "cells": [
  {
   "cell_type": "code",
   "execution_count": 1,
   "metadata": {
    "collapsed": true
   },
   "outputs": [],
   "source": [
    "import pybullet as p\n",
    "import time\n",
    "import pybullet_data\n",
    "import numpy as np"
   ]
  },
  {
   "cell_type": "code",
   "execution_count": 2,
   "metadata": {},
   "outputs": [],
   "source": [
    "physicsClient = p.connect(p.GUI)\n",
    "p.setAdditionalSearchPath(pybullet_data.getDataPath())\n",
    "p.setGravity(0,0,-10)\n",
    "planeId = p.loadURDF(\"plane.urdf\")"
   ]
  },
  {
   "cell_type": "code",
   "execution_count": 3,
   "metadata": {
    "collapsed": true
   },
   "outputs": [],
   "source": [
    "p.setAdditionalSearchPath(pybullet_data.getDataPath())\n",
    "r2d2 = p.loadURDF(\"r2d2.urdf\", [2,0,0.5])"
   ]
  },
  {
   "cell_type": "code",
   "execution_count": 10,
   "metadata": {
    "collapsed": true
   },
   "outputs": [],
   "source": [
    "p.setAdditionalSearchPath(\"/home/dl-box/ros_ws/src/test_car_description/urdf/\")\n",
    "startPos = [0,0,0]\n",
    "startOrientation = p.getQuaternionFromEuler([0,0,0])\n",
    "car = p.loadURDF(\"test_car.urdf\",startPos, startOrientation)"
   ]
  },
  {
   "cell_type": "code",
   "execution_count": 5,
   "metadata": {},
   "outputs": [
    {
     "data": {
      "text/plain": [
       "3"
      ]
     },
     "execution_count": 5,
     "metadata": {},
     "output_type": "execute_result"
    }
   ],
   "source": [
    "# 2台目\n",
    "cuid = p.loadURDF(\"test_car.urdf\",[0,1,1], startOrientation)\n",
    "p.createMultiBody(cuid)"
   ]
  },
  {
   "cell_type": "code",
   "execution_count": 4,
   "metadata": {},
   "outputs": [
    {
     "data": {
      "text/plain": [
       "2"
      ]
     },
     "execution_count": 4,
     "metadata": {},
     "output_type": "execute_result"
    }
   ],
   "source": [
    "#円柱を出現させる\n",
    "target = p.createCollisionShape(p.GEOM_CYLINDER, radius=0.2, height=2, collisionFramePosition=[2,0,0])\n",
    "mass= 0 #static box\n",
    "p.createMultiBody(mass, target)"
   ]
  },
  {
   "cell_type": "code",
   "execution_count": null,
   "metadata": {},
   "outputs": [],
   "source": [
    "base_pos, orn = p.getBasePositionAndOrientation(car)"
   ]
  },
  {
   "cell_type": "code",
   "execution_count": null,
   "metadata": {},
   "outputs": [],
   "source": [
    "base_pos"
   ]
  },
  {
   "cell_type": "code",
   "execution_count": null,
   "metadata": {},
   "outputs": [],
   "source": [
    "#オブジェクト視点カメラ\n",
    "cam_eye = np.array(base_pos) + [0.1,0,0.2]\n",
    "cam_target = [2,0,0.2]\n",
    "cam_upvec = [1,0,1] #upベクトル(カメラの向きを決める)[1,0,1]で正面？\n",
    "view_matrix = p.computeViewMatrix(\n",
    "        cameraEyePosition=cam_eye,\n",
    "        cameraTargetPosition=cam_target,\n",
    "        cameraUpVector=cam_upvec)"
   ]
  },
  {
   "cell_type": "code",
   "execution_count": null,
   "metadata": {},
   "outputs": [],
   "source": [
    "cam_eye"
   ]
  },
  {
   "cell_type": "code",
   "execution_count": null,
   "metadata": {
    "collapsed": true
   },
   "outputs": [],
   "source": [
    "#固定点カメラ\n",
    "cam_dist = 4 # min 1\n",
    "cam_yaw = 0\n",
    "cam_pitch = -10\n",
    "view_matrix = p.computeViewMatrixFromYawPitchRoll(\n",
    "        cameraTargetPosition=base_pos,\n",
    "        distance=cam_dist,\n",
    "        yaw=cam_yaw,\n",
    "        pitch=cam_pitch,\n",
    "        roll=0,\n",
    "        upAxisIndex=2)"
   ]
  },
  {
   "cell_type": "code",
   "execution_count": null,
   "metadata": {
    "collapsed": true
   },
   "outputs": [],
   "source": [
    "RENDER_WIDTH = 320\n",
    "RENDER_HEIGHT = 320\n",
    "proj_matrix = p.computeProjectionMatrixFOV(\n",
    "        fov=60, aspect=float(RENDER_WIDTH)/RENDER_HEIGHT,\n",
    "        nearVal=0.1, farVal=100.0)"
   ]
  },
  {
   "cell_type": "code",
   "execution_count": null,
   "metadata": {},
   "outputs": [],
   "source": [
    "#カメラ画像を取得(width, height, rgb, depth, segment_mask)\n",
    "(_, _, rgb, _, mask) = p.getCameraImage(\n",
    "        width=RENDER_WIDTH, height=RENDER_HEIGHT, viewMatrix=view_matrix,\n",
    "        projectionMatrix=proj_matrix, renderer=p.ER_BULLET_HARDWARE_OPENGL)\n",
    "#renderer=p.ER_BULLET_HARDWARE_OPENGL or ER_TINY_RENDERER はp.connect(p.DIRECT)のとき"
   ]
  },
  {
   "cell_type": "code",
   "execution_count": null,
   "metadata": {},
   "outputs": [],
   "source": [
    "#np.array形式に変換\n",
    "rgb_array = np.array(rgb)\n",
    "rgb_array = rgb_array[:, :, :3]"
   ]
  },
  {
   "cell_type": "code",
   "execution_count": 28,
   "metadata": {
    "collapsed": true
   },
   "outputs": [],
   "source": [
    "def render(uniqueId, width=320, height=320):\n",
    "    base_pos, orn = p.getBasePositionAndOrientation(uniqueId)\n",
    "    cam_eye = np.array(base_pos) + [0.1,0,0.2]\n",
    "    cam_target = np.array(base_pos) + [2,0,0.2]\n",
    "    cam_upvec = [1,0,1]\n",
    "    \n",
    "    view_matrix = p.computeViewMatrix(\n",
    "            cameraEyePosition=cam_eye,\n",
    "            cameraTargetPosition=cam_target,\n",
    "            cameraUpVector=cam_upvec)\n",
    "    \n",
    "    proj_matrix = p.computeProjectionMatrixFOV(\n",
    "        fov=60, aspect=float(width)/height,\n",
    "        nearVal=0.1, farVal=100.0)\n",
    "    \n",
    "    (_, _, rgb, _, mask) = p.getCameraImage(\n",
    "        width=width, height=height, viewMatrix=view_matrix,\n",
    "        projectionMatrix=proj_matrix, renderer=p.ER_BULLET_HARDWARE_OPENGL)\n",
    "    \n",
    "    rgb_array = np.array(rgb)\n",
    "    rgb_array = rgb_array[:,:,:3]\n",
    "    mask_array = np.array(mask)\n",
    "    \n",
    "    return rgb_array, mask_array"
   ]
  },
  {
   "cell_type": "code",
   "execution_count": 41,
   "metadata": {},
   "outputs": [
    {
     "data": {
      "text/plain": [
       "<matplotlib.image.AxesImage at 0x7f66229d8ef0>"
      ]
     },
     "execution_count": 41,
     "metadata": {},
     "output_type": "execute_result"
    },
    {
     "data": {
      "image/png": "[encoded data removed]",
      "text/plain": [
       "<matplotlib.figure.Figure at 0x7f6622a8fd30>"
      ]
     },
     "metadata": {},
     "output_type": "display_data"
    }
   ],
   "source": [
    "#レンダリングされたカメラ画像を確認\n",
    "import matplotlib.pyplot as plt\n",
    "%matplotlib inline\n",
    "img, mask = render(car)\n",
    "# plt.imshow(mask, cmap=\"gray\")\n",
    "plt.imshow(img)"
   ]
  },
  {
   "cell_type": "code",
   "execution_count": 8,
   "metadata": {},
   "outputs": [],
   "source": [
    "#モーターを動かす\n",
    "maxForce = 10\n",
    "velocity = 10\n",
    "mode = p.VELOCITY_CONTROL\n",
    "for wheel in range(p.getNumJoints(car)):\n",
    "    p.setJointMotorControl2(car, wheel, mode, targetVelocity=velocity, force=maxForce)"
   ]
  },
  {
   "cell_type": "code",
   "execution_count": 40,
   "metadata": {},
   "outputs": [],
   "source": [
    "#シミュレーション開始\n",
    "for i in range (1000):\n",
    "    p.stepSimulation()\n",
    "#     img, mask = render(car) #renderするととても遅くなる\n",
    "    time.sleep(1./240.)#世界の時間スピード?"
   ]
  },
  {
   "cell_type": "code",
   "execution_count": 16,
   "metadata": {},
   "outputs": [
    {
     "data": {
      "text/plain": [
       "-9.99217123331779e-06"
      ]
     },
     "execution_count": 16,
     "metadata": {},
     "output_type": "execute_result"
    }
   ],
   "source": [
    "p.getClosestPoints(bodyA=car, bodyB=target, distance=100, linkIndexA=0)[0][8]"
   ]
  },
  {
   "cell_type": "code",
   "execution_count": 6,
   "metadata": {},
   "outputs": [
    {
     "data": {
      "text/plain": [
       "(2,\n",
       " b'front_right_wheel_joint',\n",
       " 0,\n",
       " 8,\n",
       " 7,\n",
       " 1,\n",
       " 0.0,\n",
       " 0.0,\n",
       " 0.0,\n",
       " -1.0,\n",
       " 0.0,\n",
       " 0.0,\n",
       " b'front_right_wheel_link',\n",
       " (0.0, 0.0, -1.0),\n",
       " (0.15000000596046448, -0.10000000149011612, 0.05000000074505806),\n",
       " (-0.7070727411679727, 0.0, 0.0, 0.7071408195665196),\n",
       " 0)"
      ]
     },
     "execution_count": 6,
     "metadata": {},
     "output_type": "execute_result"
    }
   ],
   "source": [
    "p.getJointInfo(car,2)"
   ]
  },
  {
   "cell_type": "code",
   "execution_count": 33,
   "metadata": {},
   "outputs": [],
   "source": [
    "p.setJointMotorControlArray(\n",
    "    car, np.arange(p.getNumJoints(car))[1:], p.VELOCITY_CONTROL, \n",
    "    targetVelocities=[12,20,12,20],\n",
    "    forces=np.ones(4)*20)"
   ]
  },
  {
   "cell_type": "code",
   "execution_count": 12,
   "metadata": {},
   "outputs": [
    {
     "data": {
      "text/plain": [
       "array([1, 2, 3, 4])"
      ]
     },
     "execution_count": 12,
     "metadata": {},
     "output_type": "execute_result"
    }
   ],
   "source": [
    "np.arange(p.getNumJoints(car))[1:]"
   ]
  },
  {
   "cell_type": "code",
   "execution_count": null,
   "metadata": {
    "collapsed": true
   },
   "outputs": [],
   "source": []
  }
 ],
 "metadata": {
  "kernelspec": {
   "display_name": "Python 3",
   "language": "python",
   "name": "python3"
  },
  "language_info": {
   "codemirror_mode": {
    "name": "ipython",
    "version": 3
   },
   "file_extension": ".py",
   "mimetype": "text/x-python",
   "name": "python",
   "nbconvert_exporter": "python",
   "pygments_lexer": "ipython3",
   "version": "3.6.6"
  }
 },
 "nbformat": 4,
 "nbformat_minor": 2
}
