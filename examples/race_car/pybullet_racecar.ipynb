{
 "cells": [
  {
   "cell_type": "code",
   "execution_count": 1,
   "metadata": {},
   "outputs": [
    {
     "name": "stdout",
     "output_type": "stream",
     "text": [
      "current_dir=/home/dl-box/.pyenv/versions/anaconda3-5.3.0/envs/bullet/lib/python3.6/site-packages/pybullet_envs/bullet\n",
      "init\n",
      "options= \n",
      "\u001b[33mWARN: gym.spaces.Box autodetected dtype as <class 'numpy.float32'>. Please provide explicit dtype.\u001b[0m\n"
     ]
    }
   ],
   "source": [
    "from pybullet_envs.bullet.racecarGymEnv import RacecarGymEnv\n",
    "env = RacecarGymEnv(renders=\"rgb_array\",isDiscrete=True)"
   ]
  },
  {
   "cell_type": "code",
   "execution_count": 3,
   "metadata": {},
   "outputs": [
    {
     "name": "stderr",
     "output_type": "stream",
     "text": [
      "/home/dl-box/.pyenv/versions/anaconda3-5.3.0/envs/bullet/lib/python3.6/site-packages/h5py/__init__.py:36: FutureWarning: Conversion of the second argument of issubdtype from `float` to `np.floating` is deprecated. In future, it will be treated as `np.float64 == np.dtype(float).type`.\n",
      "  from ._conv import register_converters as _register_converters\n"
     ]
    }
   ],
   "source": [
    "#これらとpybulletのウィンドウ表示(p.connect)を分けないとカーネルが死ぬ\n",
    "import gym\n",
    "from baselines import deepq\n",
    "import datetime"
   ]
  },
  {
   "cell_type": "code",
   "execution_count": 4,
   "metadata": {},
   "outputs": [],
   "source": [
    "def callback(lcl, glb):\n",
    "    # stop training if reward exceeds 199\n",
    "    total = sum(lcl['episode_rewards'][-101:-1]) / 100\n",
    "    totalt = lcl['t']\n",
    "    is_solved = totalt > 2000 and total >= -50\n",
    "    return is_solved"
   ]
  },
  {
   "cell_type": "code",
   "execution_count": 5,
   "metadata": {},
   "outputs": [],
   "source": [
    "model = deepq.models.mlp([64])"
   ]
  },
  {
   "cell_type": "code",
   "execution_count": null,
   "metadata": {},
   "outputs": [
    {
     "name": "stderr",
     "output_type": "stream",
     "text": [
      "/home/dl-box/.pyenv/versions/anaconda3-5.3.0/envs/bullet/lib/python3.6/site-packages/numpy/core/fromnumeric.py:2957: RuntimeWarning: Mean of empty slice.\n",
      "  out=out, **kwargs)\n",
      "/home/dl-box/.pyenv/versions/anaconda3-5.3.0/envs/bullet/lib/python3.6/site-packages/numpy/core/_methods.py:80: RuntimeWarning: invalid value encountered in double_scalars\n",
      "  ret = ret.dtype.type(ret / rcount)\n"
     ]
    }
   ],
   "source": [
    "act = deepq.learn(\n",
    "    env,\n",
    "    q_func=model,\n",
    "    lr=1e-3,\n",
    "    max_timesteps=10000,\n",
    "    buffer_size=50000,\n",
    "    exploration_fraction=0.1,\n",
    "    exploration_final_eps=0.02,\n",
    "    print_freq=10,\n",
    "    callback=callback\n",
    ")\n",
    "print(\"Saving model to racecar_model.pkl\")\n",
    "act.save(\"racecar_model.pkl\")"
   ]
  },
  {
   "cell_type": "code",
   "execution_count": 1,
   "metadata": {},
   "outputs": [
    {
     "name": "stdout",
     "output_type": "stream",
     "text": [
      "current_dir=/home/dl-box/.pyenv/versions/anaconda3-4.3.1/lib/python3.6/site-packages/pybullet_envs/bullet\n",
      "init\n",
      "options= \n"
     ]
    }
   ],
   "source": [
    "from pybullet_envs.bullet.racecarGymEnv import RacecarGymEnv\n",
    "env = RacecarGymEnv(renders=True,isDiscrete=True)"
   ]
  },
  {
   "cell_type": "code",
   "execution_count": 2,
   "metadata": {},
   "outputs": [],
   "source": [
    "from baselines import deepq\n",
    "act = deepq.load(\"racecar_model.pkl\")"
   ]
  },
  {
   "cell_type": "code",
   "execution_count": null,
   "metadata": {},
   "outputs": [
    {
     "name": "stdout",
     "output_type": "stream",
     "text": [
      "===episode: 0 =============================\n",
      "obs:  [-5.37568092  2.77752137]\n",
      "Episode reward:  -57.99161847174463\n",
      "===episode: 1 =============================\n",
      "obs:  [ 5.92757607 -1.7761687 ]\n",
      "Episode reward:  -54.26234101195037\n",
      "===episode: 2 =============================\n",
      "obs:  [ 6.68223858  0.7294842 ]\n"
     ]
    }
   ],
   "source": [
    "episodes = 100\n",
    "for episode in range(episodes):\n",
    "    obs, done = env.reset(), False\n",
    "    print(\"===episode:\",episode,\"=============================\")        \n",
    "    print(\"obs: \", obs)\n",
    "    episode_rew = 0\n",
    "    while not done:\n",
    "        env.render()\n",
    "        obs, rew, done, _ = env.step(act(obs[None])[0])\n",
    "        episode_rew += rew\n",
    "    print(\"Episode reward: \", episode_rew)"
   ]
  },
  {
   "cell_type": "code",
   "execution_count": 8,
   "metadata": {},
   "outputs": [],
   "source": [
    "import pybullet as p\n",
    "import  pybullet_data"
   ]
  },
  {
   "cell_type": "code",
   "execution_count": 9,
   "metadata": {
    "collapsed": true
   },
   "outputs": [],
   "source": [
    "p.setAdditionalSearchPath(pybullet_data.getDataPath())"
   ]
  },
  {
   "cell_type": "code",
   "execution_count": 11,
   "metadata": {},
   "outputs": [],
   "source": [
    "car = p.loadURDF(\"racecar/racecar_differential.urdf\")"
   ]
  },
  {
   "cell_type": "code",
   "execution_count": null,
   "metadata": {
    "collapsed": true
   },
   "outputs": [],
   "source": [
    "p.getNumJoints(car)"
   ]
  },
  {
   "cell_type": "code",
   "execution_count": 16,
   "metadata": {},
   "outputs": [
    {
     "data": {
      "text/plain": [
       "(15,\n",
       " b'diff2_ring_chassis',\n",
       " 0,\n",
       " 16,\n",
       " 15,\n",
       " 1,\n",
       " 0.0,\n",
       " 0.0,\n",
       " 0.0,\n",
       " -1.0,\n",
       " 0.0,\n",
       " 0.0,\n",
       " b'diff2_ring',\n",
       " (0.0, 1.0, 0.0),\n",
       " (0.11999998986721039, 0.0, 0.0),\n",
       " (0.0, 0.0, 0.0, 1.0),\n",
       " -1)"
      ]
     },
     "execution_count": 16,
     "metadata": {},
     "output_type": "execute_result"
    }
   ],
   "source": [
    "p.getJointInfo(car,15)"
   ]
  },
  {
   "cell_type": "code",
   "execution_count": null,
   "metadata": {
    "collapsed": true
   },
   "outputs": [],
   "source": []
  }
 ],
 "metadata": {
  "kernelspec": {
   "display_name": "Python 3",
   "language": "python",
   "name": "python3"
  },
  "language_info": {
   "codemirror_mode": {
    "name": "ipython",
    "version": 3
   },
   "file_extension": ".py",
   "mimetype": "text/x-python",
   "name": "python",
   "nbconvert_exporter": "python",
   "pygments_lexer": "ipython3",
   "version": "3.6.6"
  }
 },
 "nbformat": 4,
 "nbformat_minor": 2
}
